{
 "cells": [
  {
   "cell_type": "code",
   "execution_count": 7,
   "metadata": {
    "collapsed": true
   },
   "outputs": [],
   "source": [
    "import urllib2\n",
    "import json\n",
    "\n",
    "API_KEY = 'vjfSeIozbYBgOrnA9HJBuMRQF6arH8I2'\n",
    "LEFT_BOTTOM= ['-71.089195', '42.342926']\n",
    "RIGHT_TOP = ['-71.066139', '42.358044']"
   ]
  },
  {
   "cell_type": "code",
   "execution_count": 15,
   "metadata": {
    "collapsed": true
   },
   "outputs": [],
   "source": [
    "def get_box_hotel(left_bottom, right_top):\n",
    "    \"\"\"Get hotel list according to their geo location(bounded box)\n",
    "    \n",
    "    left_bottom and right_top is a length 2 list \n",
    "    recording the longitude and lattitude of a bounded rectangular box.\n",
    "    \"\"\"\n",
    "    url = ''.join(('http://terminal2.expedia.com:80/x/geo/features?bbox=',\n",
    "                   left_bottom[0], '%2C', left_bottom[1], '%2C', right_top[0], \n",
    "                   '%2C', right_top[1], '&type=hotel&apikey=', API_KEY))\n",
    "    data = json.load(urllib2.urlopen(url))\n",
    "    \n",
    "    return data"
   ]
  },
  {
   "cell_type": "code",
   "execution_count": 16,
   "metadata": {
    "collapsed": false
   },
   "outputs": [
    {
     "name": "stdout",
     "output_type": "stream",
     "text": [
      "42\n"
     ]
    }
   ],
   "source": [
    "data = get_box_hotel(LEFT_BOTTOM, RIGHT_TOP)\n",
    "print len(data)"
   ]
  },
  {
   "cell_type": "code",
   "execution_count": null,
   "metadata": {
    "collapsed": true
   },
   "outputs": [],
   "source": []
  }
 ],
 "metadata": {
  "kernelspec": {
   "display_name": "Python 2",
   "language": "python",
   "name": "python2"
  },
  "language_info": {
   "codemirror_mode": {
    "name": "ipython",
    "version": 2
   },
   "file_extension": ".py",
   "mimetype": "text/x-python",
   "name": "python",
   "nbconvert_exporter": "python",
   "pygments_lexer": "ipython2",
   "version": "2.7.10"
  }
 },
 "nbformat": 4,
 "nbformat_minor": 0
}
