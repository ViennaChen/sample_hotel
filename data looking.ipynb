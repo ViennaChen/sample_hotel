{
 "cells": [
  {
   "cell_type": "code",
   "execution_count": 65,
   "metadata": {
    "collapsed": false
   },
   "outputs": [],
   "source": [
    "import urllib2\n",
    "import json\n",
    "import sys\n",
    "import numpy as np\n",
    "import matplotlib.pyplot as plt\n",
    "from mpl_toolkits.basemap import Basemap as Basemap\n",
    "from PIL import Image, ImageDraw\n",
    "%matplotlib inline\n",
    "import random\n",
    "\n",
    "API_KEY = 'vjfSeIozbYBgOrnA9HJBuMRQF6arH8I2'\n",
    "LEFT_BOTTOM= ['-73','41']\n",
    "RIGHT_TOP = ['-68','46']"
   ]
  },
  {
   "cell_type": "code",
   "execution_count": 56,
   "metadata": {
    "collapsed": true
   },
   "outputs": [],
   "source": [
    "def get_box_hotel(left_bottom, right_top, limit=0):\n",
    "    \"\"\"Get hotel list according to their geo location(bounded box)\n",
    "    \n",
    "    left_bottom and right_top is a length 2 list \n",
    "    recording the longitude and lattitude of a bounded rectangular box.\n",
    "    \"\"\"\n",
    "    if limit == 0:\n",
    "        url = ''.join(('http://terminal2.expedia.com:80/x/geo/features?bbox=',\n",
    "                       left_bottom[0], '%2C', left_bottom[1], '%2C', right_top[0], \n",
    "                       '%2C', right_top[1], '&type=hotel&apikey=', API_KEY))\n",
    "    else:\n",
    "        url = ''.join(('http://terminal2.expedia.com:80/x/geo/features?bbox=',\n",
    "                       left_bottom[0], '%2C', left_bottom[1], '%2C', right_top[0], \n",
    "                       '%2C', right_top[1], '&type=hotel&limit=', limit,'&apikey=', API_KEY))\n",
    "    data = json.load(urllib2.urlopen(url))\n",
    "    \n",
    "    return data\n",
    "\n"
   ]
  },
  {
   "cell_type": "code",
   "execution_count": 4,
   "metadata": {
    "collapsed": false
   },
   "outputs": [
    {
     "name": "stdout",
     "output_type": "stream",
     "text": [
      "10\n"
     ]
    }
   ],
   "source": [
    "data = get_box_hotel(LEFT_BOTTOM, RIGHT_TOP)\n",
    "print len(data)"
   ]
  },
  {
   "cell_type": "code",
   "execution_count": 48,
   "metadata": {
    "collapsed": false
   },
   "outputs": [],
   "source": [
    "im = Image.open(\"map.png\")\n",
    "\n",
    "left, right, up, down = 23, 470, 33, 303\n",
    "\n",
    "draw = ImageDraw.Draw(im)\n",
    "draw.line((left, 0, left, im.size[1]), fill=230)\n",
    "draw.line((right, 0, right, im.size[1]), fill=230)\n",
    "draw.line((0, up, im.size[0], up), fill=230)\n",
    "draw.line((0, down, im.size[0], down), fill=230)\n",
    "\n",
    "# plot grid\n",
    "left_l, right_l, up_l, down_l = -73.7, -69.7, 43.1, 41\n",
    "w_grad = (right_l - left_l)/(right - left)\n",
    "h_grad = (up_l - down_l)/(down - up)\n",
    "# grid deta lat, longti\n",
    "deta_x, deta_y = 0.1/w_grad, 0.1/h_grad\n",
    "\n",
    "for x in np.arange(left, right, deta_x):\n",
    "    draw.line((x, 0, x, im.size[1]), fill=230)\n",
    "for y in np.arange(up, down, deta_y):\n",
    "    draw.line((0, y, im.size[0], y), fill=230)\n",
    "\n",
    "im.show()"
   ]
  },
  {
   "cell_type": "code",
   "execution_count": 57,
   "metadata": {
    "collapsed": false
   },
   "outputs": [
    {
     "data": {
      "text/plain": [
       "1215"
      ]
     },
     "execution_count": 57,
     "metadata": {},
     "output_type": "execute_result"
    }
   ],
   "source": [
    "# Ground Truth, medium rectangle, upper small rectangle and right bottom rectangle\n",
    "# whole MA, -73.7 ~ -69.7 W, 41 ~ 43.1 N\n",
    "# count the grid \n",
    "rec1 = get_box_hotel([str(left_l), str(up_l-11*deta_y*h_grad)], \n",
    "                     [str(right_l), str(up_l-2*deta_y*h_grad)])\n",
    "rec2 = get_box_hotel([str(left_l+25*deta_x*w_grad), str(up_l-2*deta_y*h_grad)], \n",
    "                     [str(left_l+33*deta_x*w_grad), str(up_l)])\n",
    "rec3 = get_box_hotel([str(left_l+24*deta_x*w_grad), str(down_l)],\n",
    "                     [str(right_l), str(up_l-11*deta_y*h_grad)])\n",
    "\n",
    "len(rec1) + len(rec2) + len(rec3)"
   ]
  },
  {
   "cell_type": "code",
   "execution_count": 75,
   "metadata": {
    "collapsed": false
   },
   "outputs": [
    {
     "name": "stdout",
     "output_type": "stream",
     "text": [
      "15 14 12\n"
     ]
    },
    {
     "data": {
      "text/plain": [
       "34"
      ]
     },
     "execution_count": 75,
     "metadata": {},
     "output_type": "execute_result"
    }
   ],
   "source": [
    "# Sample method 1: random choose one point and grid size\n",
    "all_box_count = 33*9 + 5*2 + 10*16 -14+3-31-21\n",
    "\n",
    "x = random.choice(range(1, 40))\n",
    "y = random.choice(range(1,21))\n",
    "b = random.choice(range(5, 15))\n",
    "print x, y, b\n",
    "\n",
    "p = b*1.0 / all_box_count\n",
    "sample1 = get_box_hotel([str(left_l+x*deta_x*w_grad), str(up_l-y*deta_y*h_grad)],\n",
    "                        [str(left_l+(x+b)*deta_x*w_grad), str(up_l-(y-1)*deta_y*h_grad)])\n",
    "len(sample1)"
   ]
  },
  {
   "cell_type": "code",
   "execution_count": 76,
   "metadata": {
    "collapsed": false
   },
   "outputs": [],
   "source": [
    "total = len(sample1)/p"
   ]
  },
  {
   "cell_type": "code",
   "execution_count": 77,
   "metadata": {
    "collapsed": false
   },
   "outputs": [
    {
     "data": {
      "text/plain": [
       "1144.6666666666667"
      ]
     },
     "execution_count": 77,
     "metadata": {},
     "output_type": "execute_result"
    }
   ],
   "source": [
    "total"
   ]
  },
  {
   "cell_type": "code",
   "execution_count": null,
   "metadata": {
    "collapsed": true
   },
   "outputs": [],
   "source": []
  }
 ],
 "metadata": {
  "kernelspec": {
   "display_name": "Python 2",
   "language": "python",
   "name": "python2"
  },
  "language_info": {
   "codemirror_mode": {
    "name": "ipython",
    "version": 2
   },
   "file_extension": ".py",
   "mimetype": "text/x-python",
   "name": "python",
   "nbconvert_exporter": "python",
   "pygments_lexer": "ipython2",
   "version": "2.7.10"
  }
 },
 "nbformat": 4,
 "nbformat_minor": 0
}
